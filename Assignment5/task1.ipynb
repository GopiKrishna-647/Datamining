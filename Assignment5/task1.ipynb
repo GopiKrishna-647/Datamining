{
 "cells": [
  {
   "cell_type": "code",
   "execution_count": 39,
   "id": "527b6bb0",
   "metadata": {},
   "outputs": [],
   "source": [
    "from blackbox import BlackBox\n",
    "import sys\n",
    "import random\n",
    "import math\n",
    "import binascii"
   ]
  },
  {
   "cell_type": "code",
   "execution_count": 40,
   "id": "6a866738",
   "metadata": {},
   "outputs": [],
   "source": [
    "input_file_path = \"/Users/gopi/Desktop/Assignment5/users.txt\"\n",
    "output_file_path = \"/Users/gopi/Desktop/Assignment5/output_1.csv\"\n",
    "stream_size = 100\n",
    "num_of_asks = 200\n",
    "m = 69997\n",
    "bx = BlackBox()\n"
   ]
  },
  {
   "cell_type": "code",
   "execution_count": 41,
   "id": "88364760",
   "metadata": {},
   "outputs": [],
   "source": [
    "def myhashs(user):\n",
    "    user_id = int(binascii.hexlify(user.encode('utf8')),16)\n",
    "    result = []\n",
    "    a = 23\n",
    "    b = 37\n",
    "    for i in range(19):\n",
    "        hash_value = (( user_id * a * random_values[i][0]) + (b * random_values[i][1])) % m\n",
    "        result.append(hash_value)\n",
    "    return result\n",
    "    \n",
    "def bloom_filter(stream_users):\n",
    "    #print(len(previous_set))\n",
    "    false_positive = 0\n",
    "    true_negative = 0\n",
    "    for user in stream_users:\n",
    "        hash_values = myhashs(user)\n",
    "        count = 0\n",
    "        zero_present = False\n",
    "        for hash_value in hash_values:\n",
    "            if filter_bit_array[hash_value] != 1:\n",
    "                zero_present = True\n",
    "                filter_bit_array[hash_value] = 1\n",
    "        \n",
    "        if user not in previous_set:\n",
    "            if zero_present:\n",
    "                true_negative +=1\n",
    "            else:\n",
    "                false_positive +=1\n",
    "       \n",
    "        previous_set.add(user)\n",
    "    false_positive_rate = float(false_positive) / (false_positive + true_negative)\n",
    "    return false_positive_rate\n",
    "    \n",
    "    "
   ]
  },
  {
   "cell_type": "code",
   "execution_count": 42,
   "id": "17447967",
   "metadata": {},
   "outputs": [],
   "source": [
    "previous_set = set()\n",
    "filter_bit_array = [0 for i in range(m)]\n",
    "file = open(output_file_path, \"w\")\n",
    "file.write(\"Time,FPR\")\n",
    "file.write(\"\\n\")\n",
    "random_values = [[random.randint(1,100), random.randint(1,100)] for i in range(19)]\n",
    "for i in range(num_of_asks):\n",
    "    stream_users = bx.ask(input_file_path, stream_size)\n",
    "    fpr = bloom_filter(stream_users)\n",
    "    string = str(i) + \",\" + str(fpr) +\"\\n\"\n",
    "    file.write(string)\n",
    "\n",
    "file.close()\n",
    "    "
   ]
  },
  {
   "cell_type": "code",
   "execution_count": null,
   "id": "6c1edbe0",
   "metadata": {},
   "outputs": [],
   "source": []
  }
 ],
 "metadata": {
  "kernelspec": {
   "display_name": "Python 3 (ipykernel)",
   "language": "python",
   "name": "python3"
  },
  "language_info": {
   "codemirror_mode": {
    "name": "ipython",
    "version": 3
   },
   "file_extension": ".py",
   "mimetype": "text/x-python",
   "name": "python",
   "nbconvert_exporter": "python",
   "pygments_lexer": "ipython3",
   "version": "3.9.10"
  }
 },
 "nbformat": 4,
 "nbformat_minor": 5
}
