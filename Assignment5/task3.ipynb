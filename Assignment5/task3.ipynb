{
 "cells": [
  {
   "cell_type": "code",
   "execution_count": 43,
   "id": "ff8cf684",
   "metadata": {},
   "outputs": [],
   "source": [
    "from blackbox import BlackBox\n",
    "import sys\n",
    "import random\n",
    "import math\n",
    "import binascii"
   ]
  },
  {
   "cell_type": "code",
   "execution_count": 84,
   "id": "d8ca3f6b",
   "metadata": {},
   "outputs": [],
   "source": [
    "input_file_path = \"/Users/gopi/Desktop/Assignment5/users.txt\"\n",
    "output_file_path = \"/Users/gopi/Desktop/Assignment5/output_3.csv\"\n",
    "stream_size = 100\n",
    "num_of_asks = 30\n",
    "bx = BlackBox()"
   ]
  },
  {
   "cell_type": "code",
   "execution_count": 85,
   "id": "cb817a88",
   "metadata": {},
   "outputs": [],
   "source": [
    "def reservoir_sampling(users_stream):\n",
    "    global n\n",
    "    global count\n",
    "    global count_20\n",
    "    #print(\"length of main list is:\", len(main_list))\n",
    "    \n",
    "    for user in users_stream:\n",
    "        n = n + 1\n",
    "        if len(main_list) < stream_size:\n",
    "            main_list.append(user)\n",
    "        else:\n",
    "            prob = random.random()\n",
    "            #print(\"prob is:\",prob)\n",
    "            #print(\"s/n is:\", 100/n)\n",
    "            #prob = random.randint(0,100000) % (n+1)\n",
    "            if prob <= (stream_size/n):\n",
    "                count+=1\n",
    "                index = random.randint(0,1000000) %100\n",
    "                if(index % 20 == 0):\n",
    "                    count_20 += 1\n",
    "                    #print(index)\n",
    "                #print(index)\n",
    "                main_list[index] = user\n",
    "    \n",
    "    return main_list[0] + \",\" + main_list[20] + \",\" + main_list[40] + \",\" + main_list[60] +\",\" + main_list[80]\n",
    "            "
   ]
  },
  {
   "cell_type": "code",
   "execution_count": 86,
   "id": "3b2a8c1e",
   "metadata": {},
   "outputs": [
    {
     "name": "stdout",
     "output_type": "stream",
     "text": [
      "335\n",
      "26\n"
     ]
    }
   ],
   "source": [
    "random.seed(553)\n",
    "main_list = []\n",
    "n=0\n",
    "count_20 = 0\n",
    "count = 0\n",
    "\n",
    "file = open(output_file_path, \"w\")\n",
    "file.write(\"seqnum,0_id,20_id,40_id,60_id,80_id\")\n",
    "file.write(\"\\n\")\n",
    "\n",
    "for i in range(num_of_asks):\n",
    "    stream_users = bx.ask(input_file_path, stream_size)\n",
    "    string = reservoir_sampling(stream_users)\n",
    "    string = str(n) + \",\" + string + \"\\n\"\n",
    "    file.write(string)\n",
    "\n",
    "file.close()\n",
    "print(count)\n",
    "print(count_20)"
   ]
  },
  {
   "cell_type": "code",
   "execution_count": 80,
   "id": "3bdd87ef",
   "metadata": {},
   "outputs": [
    {
     "name": "stdout",
     "output_type": "stream",
     "text": [
      "Duration :  2.9225237369537354\n"
     ]
    }
   ],
   "source": [
    "from blackbox import BlackBox\n",
    "import random\n",
    "import sys\n",
    "import time\n",
    "\n",
    "\n",
    "def reservoir_sampling(stream_users, ask):\n",
    "    global reservoir, seqnum\n",
    "    if ask == 0:\n",
    "        for seqnum in range(stream_size):\n",
    "            reservoir[seqnum] = stream_users[seqnum]\n",
    "        seqnum += 1\n",
    "    else:\n",
    "        for user in stream_users:\n",
    "            # random.randint() % q < p will simulate a prob of p / q\n",
    "            # we need to keep user with prob 100/n, where n ranges from 1 to ask*100, i.e seqnum + 1\n",
    "            if random.randint(0, 100000) % (seqnum + 1) < stream_size:\n",
    "                x = random.randint(0, 100000) % 100  # chossing the location in list\n",
    "                reservoir[x] = user\n",
    "            seqnum += 1\n",
    "    f.write(str(seqnum) + ',' + str(reservoir[0]) + ',' + str(reservoir[20]) + ',' + str(reservoir[40]) + ',' + str(\n",
    "        reservoir[60]) + ',' + str(reservoir[80]) + '\\n')\n",
    "\n",
    "\n",
    "if __name__ == \"__main__\":\n",
    "    # time python3 task3.py $ASNLIB/publicdata/users.txt 100 30 task3.csv\n",
    "    start_time = time.time()\n",
    "\n",
    "    # input_file = 'dataset/users.txt'\n",
    "    # stream_size = 100\n",
    "    # num_of_asks = 30\n",
    "    # output_file = 'output/task3.csv'\n",
    "\n",
    "    input_file = \"/Users/gopi/Desktop/Assignment5/users.txt\"\n",
    "    stream_size = 100\n",
    "    num_of_asks = 30\n",
    "    output_file = \"/Users/gopi/Desktop/Assignment5/output_a_3.csv\"\n",
    "\n",
    "    random.seed(553)\n",
    "    reservoir = [0] * 100\n",
    "    seqnum = 0\n",
    "\n",
    "    f = open(output_file, \"w\")\n",
    "    f.write(\"seqnum,0_id,20_id,40_id,60_id,80_id\\n\")\n",
    "\n",
    "    bx = BlackBox()\n",
    "    for ask in range(num_of_asks):\n",
    "        stream_users = bx.ask(input_file, stream_size)\n",
    "        reservoir_sampling(stream_users, ask)\n",
    "    f.close()\n",
    "    print(\"Duration : \", time.time() - start_time)"
   ]
  },
  {
   "cell_type": "code",
   "execution_count": null,
   "id": "250689d5",
   "metadata": {},
   "outputs": [],
   "source": []
  }
 ],
 "metadata": {
  "kernelspec": {
   "display_name": "Python 3 (ipykernel)",
   "language": "python",
   "name": "python3"
  },
  "language_info": {
   "codemirror_mode": {
    "name": "ipython",
    "version": 3
   },
   "file_extension": ".py",
   "mimetype": "text/x-python",
   "name": "python",
   "nbconvert_exporter": "python",
   "pygments_lexer": "ipython3",
   "version": "3.9.10"
  }
 },
 "nbformat": 4,
 "nbformat_minor": 5
}
