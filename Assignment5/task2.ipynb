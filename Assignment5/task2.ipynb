{
 "cells": [
  {
   "cell_type": "code",
   "execution_count": 1,
   "id": "8ba878ca",
   "metadata": {},
   "outputs": [],
   "source": [
    "from blackbox import BlackBox\n",
    "import sys\n",
    "import random\n",
    "import math\n",
    "import binascii"
   ]
  },
  {
   "cell_type": "code",
   "execution_count": 9,
   "id": "3bda9bc4",
   "metadata": {},
   "outputs": [],
   "source": [
    "input_file_path = \"/Users/gopi/Desktop/Assignment5/users.txt\"\n",
    "output_file_path = \"/Users/gopi/Desktop/Assignment5/output_2.csv\"\n",
    "stream_size = 300\n",
    "num_of_asks = 100\n",
    "m = 997\n",
    "bx = BlackBox()"
   ]
  },
  {
   "cell_type": "code",
   "execution_count": 10,
   "id": "d3dc7339",
   "metadata": {},
   "outputs": [],
   "source": [
    "def myhashs(user):\n",
    "    user_id = int(binascii.hexlify(user.encode('utf8')),16)\n",
    "    result = []\n",
    "    a = 37\n",
    "    b = 13\n",
    "    for i in range(55):\n",
    "        hash_value = ((a * user_id * i) + (b)) % m\n",
    "        result.append(hash_value)\n",
    "    return result\n",
    "\n",
    "def flajolet_martin(users_stream):\n",
    "    user_set = set()\n",
    "    hash_values_all = []\n",
    "    \n",
    "    for user in users_stream:\n",
    "        hv = myhashs(user)\n",
    "        hash_values_all.append([bin(i)[2:] for i in hv])\n",
    "        user_set.add(user)\n",
    "    \n",
    "    predictions = []\n",
    "    for i in range(55):\n",
    "        max_value = 0\n",
    "        for j in range(len(users_stream)):\n",
    "            num_of_zero = len(hash_values_all[j][i]) - len(hash_values_all[j][i].rstrip('0'))\n",
    "            if num_of_zero > max_value:\n",
    "                max_value = num_of_zero\n",
    "        predictions.append(2**max_value)\n",
    "    \n",
    "    group_avgs = []\n",
    "    #print(len(predictions))\n",
    "    for i in range(11):\n",
    "        group_avgs.append(sum(predictions[i*5 : (i*5)+5])/5)\n",
    "    result=[0,0]\n",
    "    result[0] = len(user_set)\n",
    "    result[1] = int(group_avgs[6])\n",
    "    return result\n",
    "    "
   ]
  },
  {
   "cell_type": "code",
   "execution_count": 11,
   "id": "0c1eb78f",
   "metadata": {},
   "outputs": [
    {
     "name": "stdout",
     "output_type": "stream",
     "text": [
      "0.8675578371891459\n"
     ]
    }
   ],
   "source": [
    "file = open(output_file_path, \"w\")\n",
    "file.write(\"Time,Ground Truth,Estimation\")\n",
    "file.write(\"\\n\")\n",
    "gt_sum = 0\n",
    "pd_sum = 0\n",
    "for i in range(num_of_asks):\n",
    "    stream_users = bx.ask(input_file_path, stream_size)\n",
    "    prediction = flajolet_martin(stream_users)\n",
    "    gt_sum += prediction[0]\n",
    "    pd_sum += prediction[1]\n",
    "    string = str(i) + \",\" + str(prediction[0]) + \",\" + str(prediction[1]) + \"\\n\"\n",
    "    file.write(string)\n",
    "\n",
    "file.close()\n",
    "print(pd_sum/gt_sum)\n",
    "    "
   ]
  },
  {
   "cell_type": "code",
   "execution_count": null,
   "id": "56e5f95f",
   "metadata": {},
   "outputs": [],
   "source": []
  }
 ],
 "metadata": {
  "kernelspec": {
   "display_name": "Python 3 (ipykernel)",
   "language": "python",
   "name": "python3"
  },
  "language_info": {
   "codemirror_mode": {
    "name": "ipython",
    "version": 3
   },
   "file_extension": ".py",
   "mimetype": "text/x-python",
   "name": "python",
   "nbconvert_exporter": "python",
   "pygments_lexer": "ipython3",
   "version": "3.9.10"
  }
 },
 "nbformat": 4,
 "nbformat_minor": 5
}
