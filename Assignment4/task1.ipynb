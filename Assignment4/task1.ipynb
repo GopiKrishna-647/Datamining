{
 "cells": [
  {
   "cell_type": "code",
   "execution_count": 1,
   "id": "75849ec4",
   "metadata": {},
   "outputs": [],
   "source": [
    "from itertools import combinations\n",
    "from pyspark import SparkContext,SparkConf\n",
    "import pyspark.sql\n",
    "#from graphframes import GraphFrame\n",
    "import time\n",
    "import sys"
   ]
  },
  {
   "cell_type": "code",
   "execution_count": 2,
   "id": "18f97cda",
   "metadata": {},
   "outputs": [],
   "source": [
    "'''\n",
    "case = int(sys.argv[1])\n",
    "support = sys.argv[2]\n",
    "input_file_path = sys.argv[3]\n",
    "output_file_path = sys.argv[4]\n",
    "'''\n",
    "\n",
    "threshold = 7\n",
    "input_file_path = \"/Users/gopi/Desktop/Assignment4/ub_sample_data.csv\"\n",
    "output_file_path = \"/Users/gopi/Desktop/Assignment4/output1.csv\"\n",
    "maxIter = 5"
   ]
  },
  {
   "cell_type": "code",
   "execution_count": 3,
   "id": "251b07d6",
   "metadata": {},
   "outputs": [
    {
     "name": "stderr",
     "output_type": "stream",
     "text": [
      "Using Spark's default log4j profile: org/apache/spark/log4j-defaults.properties\n",
      "Setting default log level to \"WARN\".\n",
      "To adjust logging level use sc.setLogLevel(newLevel). For SparkR, use setLogLevel(newLevel).\n",
      "22/04/04 23:30:39 WARN NativeCodeLoader: Unable to load native-hadoop library for your platform... using builtin-java classes where applicable\n"
     ]
    }
   ],
   "source": [
    "conf = SparkConf().setMaster(\"local[*]\").setAppName(\"assign-4-task-1\").set(\"spark.executor.memory\", \"4g\").set(\"spark.driver.memory\", \"4g\")\n",
    "sc = SparkContext(conf=conf)\n",
    "sc.setLogLevel(\"ERROR\")\n",
    "\n",
    "sqlSession = pyspark.sql.SparkSession(sc)"
   ]
  },
  {
   "cell_type": "code",
   "execution_count": 4,
   "id": "16d256c0",
   "metadata": {},
   "outputs": [],
   "source": [
    "def write_data_to_file(output_file_path, results):\n",
    "    with open(output_file_path, 'w') as file:\n",
    "        for data in results:\n",
    "          final_str = str(data)[1:-1]\n",
    "          file.write(final_str)\n",
    "          file.write(\"\\n\")\n",
    "    file.close()"
   ]
  },
  {
   "cell_type": "code",
   "execution_count": 6,
   "id": "24d4e756",
   "metadata": {},
   "outputs": [
    {
     "name": "stderr",
     "output_type": "stream",
     "text": [
      "/opt/homebrew/lib/python3.9/site-packages/pyspark/python/lib/pyspark.zip/pyspark/shuffle.py:60: UserWarning: Please install psutil to have better support with spilling\n",
      "/opt/homebrew/lib/python3.9/site-packages/pyspark/python/lib/pyspark.zip/pyspark/shuffle.py:60: UserWarning: Please install psutil to have better support with spilling\n"
     ]
    },
    {
     "name": "stdout",
     "output_type": "stream",
     "text": [
      "5690251\n",
      "123\n",
      "432\n"
     ]
    },
    {
     "data": {
      "text/plain": [
       "'\\ngraph = GraphFrame(vertex_df, edges_df)\\nresult_graph = graph.labelPropagation(maxIter=5)\\n\\nresults = result_graph.rdd.map(lambda x: (x[1], x[0])).groupByKey().mapValues(list).map(lambda x: sorted(x[1])).sortBy(lambda x : (len(x), x[0])).collect()\\n\\nwrite_data_to_file(output_file_path, results)\\n'"
      ]
     },
     "execution_count": 6,
     "metadata": {},
     "output_type": "execute_result"
    }
   ],
   "source": [
    "initial_rdd = sc.textFile(input_file_path)\n",
    "first = initial_rdd.first()\n",
    "initial_rdd = initial_rdd.filter(lambda x : x != first).map(lambda line: line.split(\",\"))\n",
    "\n",
    "user_business_map = initial_rdd.map(lambda x : (x[0], x[1])).groupByKey().mapValues(lambda x : set(sorted(list(x)))).collectAsMap()\n",
    "\n",
    "user_id_list = list(user_business_map.keys())\n",
    "user_comb = list(combinations(user_id_list, 2))\n",
    "print(len(user_comb))\n",
    "\n",
    "vertex_set = set()\n",
    "edge_list = []\n",
    "\n",
    "for comb in user_comb:\n",
    "    set_1 = user_business_map[comb[0]]\n",
    "    set_2 = user_business_map[comb[1]]\n",
    "    \n",
    "    if len(set_1.intersection(set_2)) > threshold:\n",
    "        vertex_set.add((comb[0],))\n",
    "        vertex_set.add((comb[1],))\n",
    "        edge_list.append(comb)\n",
    "        edge_list.append((comb[1], comb[0]))\n",
    "\n",
    "vertex_df = sc.parallelize(list(vertex_set)).toDF(['id'])\n",
    "edges_df = sc.parallelize(edge_list).toDF(['src', 'dst'])\n",
    "print(len(vertex_set))\n",
    "print(len(edge_list))\n",
    "\n",
    "'''\n",
    "graph = GraphFrame(vertex_df, edges_df)\n",
    "result_graph = graph.labelPropagation(maxIter=5)\n",
    "\n",
    "results = result_graph.rdd.map(lambda x: (x[1], x[0])).groupByKey().mapValues(list).map(lambda x: sorted(x[1])).sortBy(lambda x : (len(x), x[0])).collect()\n",
    "\n",
    "write_data_to_file(output_file_path, results)\n",
    "'''"
   ]
  },
  {
   "cell_type": "code",
   "execution_count": null,
   "id": "806c816d",
   "metadata": {},
   "outputs": [],
   "source": [
    "print(list(combinations([1,2,3],2)))"
   ]
  },
  {
   "cell_type": "code",
   "execution_count": null,
   "id": "5436f5fc",
   "metadata": {},
   "outputs": [],
   "source": [
    "print(list(vertex_set)[10])"
   ]
  },
  {
   "cell_type": "code",
   "execution_count": null,
   "id": "78156bc2",
   "metadata": {},
   "outputs": [],
   "source": [
    "a = {1:2, 3:3}\n",
    "for x in a:\n",
    "    print(x)"
   ]
  },
  {
   "cell_type": "code",
   "execution_count": null,
   "id": "f17d49bd",
   "metadata": {},
   "outputs": [],
   "source": [
    "a =[\"1\",\"2\",\"3\"]\n",
    "print(str(a))"
   ]
  },
  {
   "cell_type": "code",
   "execution_count": null,
   "id": "a3ffe5c8",
   "metadata": {},
   "outputs": [],
   "source": []
  }
 ],
 "metadata": {
  "kernelspec": {
   "display_name": "Python 3 (ipykernel)",
   "language": "python",
   "name": "python3"
  },
  "language_info": {
   "codemirror_mode": {
    "name": "ipython",
    "version": 3
   },
   "file_extension": ".py",
   "mimetype": "text/x-python",
   "name": "python",
   "nbconvert_exporter": "python",
   "pygments_lexer": "ipython3",
   "version": "3.9.10"
  }
 },
 "nbformat": 4,
 "nbformat_minor": 5
}
